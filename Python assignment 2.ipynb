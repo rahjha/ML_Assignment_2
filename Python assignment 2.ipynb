{
 "cells": [
  {
   "cell_type": "raw",
   "metadata": {},
   "source": [
    "1.create the below pattern using nested for loop in python\n",
    "*\n",
    "**\n",
    "***\n",
    "****\n",
    "*****\n",
    "****\n",
    "***\n",
    "**\n",
    "*"
   ]
  },
  {
   "cell_type": "code",
   "execution_count": 9,
   "metadata": {},
   "outputs": [
    {
     "name": "stdout",
     "output_type": "stream",
     "text": [
      "enter the number of columns :5\n",
      "*\n",
      "**\n",
      "***\n",
      "****\n",
      "*****\n",
      "*****\n",
      "****\n",
      "***\n",
      "**\n",
      "*\n"
     ]
    }
   ],
   "source": [
    "column = int(input(\"enter the number of columns :\"))\n",
    "for i in range(0,column):\n",
    "    for j in range(0,i+1):\n",
    "        if j<=i:\n",
    "            print(\"*\", end=\"\")\n",
    "    print(\"\")\n",
    "\n",
    "for i in range(column-1,-1,-1):\n",
    "    for k in range(column-1, -1,-1):\n",
    "        if k<=i:\n",
    "            print(\"*\", end=\"\")\n",
    "    print(\"\")"
   ]
  },
  {
   "cell_type": "markdown",
   "metadata": {},
   "source": [
    "2. Write a python program to reverse a word after accepting the input from the user."
   ]
  },
  {
   "cell_type": "code",
   "execution_count": 20,
   "metadata": {},
   "outputs": [
    {
     "name": "stdout",
     "output_type": "stream",
     "text": [
      "Input word :ineuron\n",
      "output :norueni\n",
      "output :norueni\n"
     ]
    }
   ],
   "source": [
    "s = input(\"Input word :\")\n",
    "print(\"output :\"+s[::-1])\n",
    "s1=''\n",
    "for i in range(len(s)-1,-1,-1):\n",
    "    s1 = s1+s[i]\n",
    "print(\"output :\"+s1)"
   ]
  },
  {
   "cell_type": "code",
   "execution_count": null,
   "metadata": {},
   "outputs": [],
   "source": []
  }
 ],
 "metadata": {
  "kernelspec": {
   "display_name": "Python 3",
   "language": "python",
   "name": "python3"
  },
  "language_info": {
   "codemirror_mode": {
    "name": "ipython",
    "version": 3
   },
   "file_extension": ".py",
   "mimetype": "text/x-python",
   "name": "python",
   "nbconvert_exporter": "python",
   "pygments_lexer": "ipython3",
   "version": "3.7.6"
  }
 },
 "nbformat": 4,
 "nbformat_minor": 4
}
